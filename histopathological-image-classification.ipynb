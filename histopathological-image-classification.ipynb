{
 "cells": [
  {
   "cell_type": "code",
   "execution_count": 1,
   "id": "82bab15c",
   "metadata": {
    "_cell_guid": "510626d7-f638-4002-8bd7-fd62ceb4681d",
    "_uuid": "1ecc4854-0550-4e9d-a895-e91c488350fb",
    "collapsed": false,
    "execution": {
     "iopub.execute_input": "2025-05-11T14:21:23.763180Z",
     "iopub.status.busy": "2025-05-11T14:21:23.762916Z",
     "iopub.status.idle": "2025-05-11T14:21:39.978801Z",
     "shell.execute_reply": "2025-05-11T14:21:39.977934Z"
    },
    "jupyter": {
     "outputs_hidden": false
    },
    "papermill": {
     "duration": 16.221496,
     "end_time": "2025-05-11T14:21:39.980273",
     "exception": false,
     "start_time": "2025-05-11T14:21:23.758777",
     "status": "completed"
    },
    "tags": []
   },
   "outputs": [
    {
     "name": "stderr",
     "output_type": "stream",
     "text": [
      "2025-05-11 14:21:27.219729: E external/local_xla/xla/stream_executor/cuda/cuda_fft.cc:477] Unable to register cuFFT factory: Attempting to register factory for plugin cuFFT when one has already been registered\n",
      "WARNING: All log messages before absl::InitializeLog() is called are written to STDERR\n",
      "E0000 00:00:1746973287.424914      19 cuda_dnn.cc:8310] Unable to register cuDNN factory: Attempting to register factory for plugin cuDNN when one has already been registered\n",
      "E0000 00:00:1746973287.492059      19 cuda_blas.cc:1418] Unable to register cuBLAS factory: Attempting to register factory for plugin cuBLAS when one has already been registered\n"
     ]
    }
   ],
   "source": [
    "# Import libraries\n",
    "import numpy as np\n",
    "import os\n",
    "import cv2\n",
    "from sklearn.model_selection import train_test_split\n",
    "from keras.applications import MobileNetV2\n",
    "from keras.models import Sequential\n",
    "from keras.layers import GlobalAveragePooling2D, Dense\n",
    "from keras.optimizers import Adam\n",
    "from keras.utils import to_categorical\n",
    "from keras.callbacks import EarlyStopping, ReduceLROnPlateau\n",
    "from matplotlib import pyplot"
   ]
  },
  {
   "cell_type": "code",
   "execution_count": 2,
   "id": "820f2d2d",
   "metadata": {
    "execution": {
     "iopub.execute_input": "2025-05-11T14:21:39.986864Z",
     "iopub.status.busy": "2025-05-11T14:21:39.986400Z",
     "iopub.status.idle": "2025-05-11T14:21:39.990093Z",
     "shell.execute_reply": "2025-05-11T14:21:39.989337Z"
    },
    "papermill": {
     "duration": 0.007937,
     "end_time": "2025-05-11T14:21:39.991145",
     "exception": false,
     "start_time": "2025-05-11T14:21:39.983208",
     "status": "completed"
    },
    "tags": []
   },
   "outputs": [],
   "source": [
    "# Set your correct dataset directory\n",
    "dataset_dir = '/kaggle/input/lung-and-colon-cancer-histopathological-images/lung_colon_image_set'\n"
   ]
  },
  {
   "cell_type": "code",
   "execution_count": 3,
   "id": "761d87ec",
   "metadata": {
    "execution": {
     "iopub.execute_input": "2025-05-11T14:21:39.997553Z",
     "iopub.status.busy": "2025-05-11T14:21:39.997225Z",
     "iopub.status.idle": "2025-05-11T14:21:40.000450Z",
     "shell.execute_reply": "2025-05-11T14:21:39.999924Z"
    },
    "papermill": {
     "duration": 0.007851,
     "end_time": "2025-05-11T14:21:40.001509",
     "exception": false,
     "start_time": "2025-05-11T14:21:39.993658",
     "status": "completed"
    },
    "tags": []
   },
   "outputs": [],
   "source": [
    "# Define the image dimensions\n",
    "img_height, img_width = 224, 224"
   ]
  },
  {
   "cell_type": "code",
   "execution_count": 4,
   "id": "2e142762",
   "metadata": {
    "execution": {
     "iopub.execute_input": "2025-05-11T14:21:40.007172Z",
     "iopub.status.busy": "2025-05-11T14:21:40.006957Z",
     "iopub.status.idle": "2025-05-11T14:27:01.252140Z",
     "shell.execute_reply": "2025-05-11T14:27:01.251189Z"
    },
    "papermill": {
     "duration": 321.249963,
     "end_time": "2025-05-11T14:27:01.253899",
     "exception": false,
     "start_time": "2025-05-11T14:21:40.003936",
     "status": "completed"
    },
    "tags": []
   },
   "outputs": [],
   "source": [
    "\n",
    "# Load and preprocess the data\n",
    "def load_data(dataset_dir):\n",
    "    images = []\n",
    "    labels = []\n",
    "\n",
    "    # List the main folders\n",
    "    main_folders = ['colon_image_sets', 'lung_image_sets']\n",
    "\n",
    "    for main_folder in main_folders:\n",
    "        main_path = os.path.join(dataset_dir, main_folder)\n",
    "        for folder in os.listdir(main_path):\n",
    "            label = folder\n",
    "            folder_path = os.path.join(main_path, folder)\n",
    "            for filename in os.listdir(folder_path):\n",
    "                img = cv2.imread(os.path.join(folder_path, filename))\n",
    "                img = cv2.resize(img, (img_height, img_width))\n",
    "                images.append(img)\n",
    "                labels.append(label)\n",
    "\n",
    "    images = np.array(images)\n",
    "    labels = np.array(labels)\n",
    "    return images, labels\n",
    "    \n",
    "images, labels = load_data(dataset_dir)"
   ]
  },
  {
   "cell_type": "code",
   "execution_count": 5,
   "id": "f2e01556",
   "metadata": {
    "execution": {
     "iopub.execute_input": "2025-05-11T14:27:01.260716Z",
     "iopub.status.busy": "2025-05-11T14:27:01.260461Z",
     "iopub.status.idle": "2025-05-11T14:27:01.614896Z",
     "shell.execute_reply": "2025-05-11T14:27:01.614163Z"
    },
    "papermill": {
     "duration": 0.359233,
     "end_time": "2025-05-11T14:27:01.616392",
     "exception": false,
     "start_time": "2025-05-11T14:27:01.257159",
     "status": "completed"
    },
    "tags": []
   },
   "outputs": [],
   "source": [
    "# Encode labels (Map class names to numbers)\n",
    "label_dict = {\n",
    "    'colon_aca': 0, \n",
    "    'colon_n': 1, \n",
    "    'lung_aca': 2, \n",
    "    'lung_n': 3, \n",
    "    'lung_scc': 4\n",
    "}\n",
    "labels = np.array([label_dict[label] for label in labels])\n",
    "labels = to_categorical(labels)"
   ]
  },
  {
   "cell_type": "code",
   "execution_count": 6,
   "id": "bf7c7232",
   "metadata": {
    "execution": {
     "iopub.execute_input": "2025-05-11T14:27:01.624329Z",
     "iopub.status.busy": "2025-05-11T14:27:01.623698Z",
     "iopub.status.idle": "2025-05-11T14:27:03.274472Z",
     "shell.execute_reply": "2025-05-11T14:27:03.272995Z"
    },
    "papermill": {
     "duration": 1.657449,
     "end_time": "2025-05-11T14:27:03.277203",
     "exception": false,
     "start_time": "2025-05-11T14:27:01.619754",
     "status": "completed"
    },
    "tags": []
   },
   "outputs": [],
   "source": [
    "# Split the data into train and test sets\n",
    "X_train, X_temp, y_train, y_temp = train_test_split(\n",
    "    images, labels, test_size=0.3, random_state=42)\n",
    "\n",
    "X_test, X_val, y_test, y_val = train_test_split(\n",
    "    X_temp, y_temp, test_size=0.5, random_state=42)"
   ]
  },
  {
   "cell_type": "code",
   "execution_count": 7,
   "id": "b3598028",
   "metadata": {
    "execution": {
     "iopub.execute_input": "2025-05-11T14:27:03.286686Z",
     "iopub.status.busy": "2025-05-11T14:27:03.286202Z",
     "iopub.status.idle": "2025-05-11T14:27:06.721266Z",
     "shell.execute_reply": "2025-05-11T14:27:06.720674Z"
    },
    "papermill": {
     "duration": 3.441606,
     "end_time": "2025-05-11T14:27:06.722750",
     "exception": false,
     "start_time": "2025-05-11T14:27:03.281144",
     "status": "completed"
    },
    "tags": []
   },
   "outputs": [
    {
     "name": "stderr",
     "output_type": "stream",
     "text": [
      "I0000 00:00:1746973624.373237      19 gpu_device.cc:2022] Created device /job:localhost/replica:0/task:0/device:GPU:0 with 15513 MB memory:  -> device: 0, name: Tesla P100-PCIE-16GB, pci bus id: 0000:00:04.0, compute capability: 6.0\n"
     ]
    },
    {
     "name": "stdout",
     "output_type": "stream",
     "text": [
      "Downloading data from https://storage.googleapis.com/tensorflow/keras-applications/mobilenet_v2/mobilenet_v2_weights_tf_dim_ordering_tf_kernels_1.0_224_no_top.h5\n",
      "\u001b[1m9406464/9406464\u001b[0m \u001b[32m━━━━━━━━━━━━━━━━━━━━\u001b[0m\u001b[37m\u001b[0m \u001b[1m0s\u001b[0m 0us/step\n"
     ]
    }
   ],
   "source": [
    "# Load base model\n",
    "base_model = MobileNetV2(weights='imagenet', include_top=False, input_shape=(img_height, img_width, 3))"
   ]
  },
  {
   "cell_type": "code",
   "execution_count": 8,
   "id": "d2dc7c18",
   "metadata": {
    "execution": {
     "iopub.execute_input": "2025-05-11T14:27:06.729081Z",
     "iopub.status.busy": "2025-05-11T14:27:06.728843Z",
     "iopub.status.idle": "2025-05-11T14:27:06.754574Z",
     "shell.execute_reply": "2025-05-11T14:27:06.753981Z"
    },
    "papermill": {
     "duration": 0.03033,
     "end_time": "2025-05-11T14:27:06.755928",
     "exception": false,
     "start_time": "2025-05-11T14:27:06.725598",
     "status": "completed"
    },
    "tags": []
   },
   "outputs": [],
   "source": [
    "# Add custom top layers for classification\n",
    "model = Sequential([\n",
    "    base_model,\n",
    "    GlobalAveragePooling2D(),\n",
    "    Dense(256, activation='relu'),\n",
    "    Dense(5, activation='softmax')  # 5 classes\n",
    "])"
   ]
  },
  {
   "cell_type": "code",
   "execution_count": 9,
   "id": "80cfc911",
   "metadata": {
    "execution": {
     "iopub.execute_input": "2025-05-11T14:27:06.762628Z",
     "iopub.status.busy": "2025-05-11T14:27:06.762373Z",
     "iopub.status.idle": "2025-05-11T14:27:06.773876Z",
     "shell.execute_reply": "2025-05-11T14:27:06.773345Z"
    },
    "papermill": {
     "duration": 0.015974,
     "end_time": "2025-05-11T14:27:06.775007",
     "exception": false,
     "start_time": "2025-05-11T14:27:06.759033",
     "status": "completed"
    },
    "tags": []
   },
   "outputs": [],
   "source": [
    "# Compile the model\n",
    "model.compile(optimizer=Adam(), loss='categorical_crossentropy', metrics=['accuracy'])"
   ]
  },
  {
   "cell_type": "code",
   "execution_count": 10,
   "id": "220eb483",
   "metadata": {
    "execution": {
     "iopub.execute_input": "2025-05-11T14:27:06.781248Z",
     "iopub.status.busy": "2025-05-11T14:27:06.781051Z",
     "iopub.status.idle": "2025-05-11T14:27:06.784914Z",
     "shell.execute_reply": "2025-05-11T14:27:06.784326Z"
    },
    "papermill": {
     "duration": 0.008224,
     "end_time": "2025-05-11T14:27:06.785991",
     "exception": false,
     "start_time": "2025-05-11T14:27:06.777767",
     "status": "completed"
    },
    "tags": []
   },
   "outputs": [],
   "source": [
    "# Define Early Stopping\n",
    "early_stopping = EarlyStopping(\n",
    "    monitor='val_loss', # Monitor validation loss\n",
    "    verbose=1,\n",
    "    patience=3,         # Stop if no improvement for 3 epochs\n",
    "    restore_best_weights=True  # Restore best model weights\n",
    ")\n",
    "lr_reduce = ReduceLROnPlateau(monitor='val_loss', factor=0.2, patience=2)"
   ]
  },
  {
   "cell_type": "code",
   "execution_count": 11,
   "id": "ce50dcd9",
   "metadata": {
    "execution": {
     "iopub.execute_input": "2025-05-11T14:27:06.792241Z",
     "iopub.status.busy": "2025-05-11T14:27:06.792053Z",
     "iopub.status.idle": "2025-05-11T14:51:07.925699Z",
     "shell.execute_reply": "2025-05-11T14:51:07.924771Z"
    },
    "papermill": {
     "duration": 1441.138366,
     "end_time": "2025-05-11T14:51:07.927168",
     "exception": false,
     "start_time": "2025-05-11T14:27:06.788802",
     "status": "completed"
    },
    "tags": []
   },
   "outputs": [
    {
     "name": "stdout",
     "output_type": "stream",
     "text": [
      "Epoch 1/200\n"
     ]
    },
    {
     "name": "stderr",
     "output_type": "stream",
     "text": [
      "WARNING: All log messages before absl::InitializeLog() is called are written to STDERR\n",
      "I0000 00:00:1746973670.285971      58 service.cc:148] XLA service 0x7ed8000c7540 initialized for platform CUDA (this does not guarantee that XLA will be used). Devices:\n",
      "I0000 00:00:1746973670.286630      58 service.cc:156]   StreamExecutor device (0): Tesla P100-PCIE-16GB, Compute Capability 6.0\n",
      "I0000 00:00:1746973673.725059      58 cuda_dnn.cc:529] Loaded cuDNN version 90300\n",
      "E0000 00:00:1746973679.402520      58 gpu_timer.cc:82] Delay kernel timed out: measured time has sub-optimal accuracy. There may be a missing warmup execution, please investigate in Nsight Systems.\n",
      "E0000 00:00:1746973679.599289      58 gpu_timer.cc:82] Delay kernel timed out: measured time has sub-optimal accuracy. There may be a missing warmup execution, please investigate in Nsight Systems.\n"
     ]
    },
    {
     "name": "stdout",
     "output_type": "stream",
     "text": [
      "\u001b[1m  1/547\u001b[0m \u001b[37m━━━━━━━━━━━━━━━━━━━━\u001b[0m \u001b[1m8:51:18\u001b[0m 58s/step - accuracy: 0.4375 - loss: 1.6626"
     ]
    },
    {
     "name": "stderr",
     "output_type": "stream",
     "text": [
      "I0000 00:00:1746973691.524873      58 device_compiler.h:188] Compiled cluster using XLA!  This line is logged at most once for the lifetime of the process.\n"
     ]
    },
    {
     "name": "stdout",
     "output_type": "stream",
     "text": [
      "\u001b[1m546/547\u001b[0m \u001b[32m━━━━━━━━━━━━━━━━━━━\u001b[0m\u001b[37m━\u001b[0m \u001b[1m0s\u001b[0m 73ms/step - accuracy: 0.9207 - loss: 0.2505"
     ]
    },
    {
     "name": "stderr",
     "output_type": "stream",
     "text": [
      "E0000 00:00:1746973739.525827      59 gpu_timer.cc:82] Delay kernel timed out: measured time has sub-optimal accuracy. There may be a missing warmup execution, please investigate in Nsight Systems.\n",
      "E0000 00:00:1746973739.724584      59 gpu_timer.cc:82] Delay kernel timed out: measured time has sub-optimal accuracy. There may be a missing warmup execution, please investigate in Nsight Systems.\n"
     ]
    },
    {
     "name": "stdout",
     "output_type": "stream",
     "text": [
      "\u001b[1m547/547\u001b[0m \u001b[32m━━━━━━━━━━━━━━━━━━━━\u001b[0m\u001b[37m\u001b[0m \u001b[1m128s\u001b[0m 128ms/step - accuracy: 0.9208 - loss: 0.2501 - val_accuracy: 0.3312 - val_loss: 41.3568 - learning_rate: 0.0010\n",
      "Epoch 2/200\n",
      "\u001b[1m547/547\u001b[0m \u001b[32m━━━━━━━━━━━━━━━━━━━━\u001b[0m\u001b[37m\u001b[0m \u001b[1m42s\u001b[0m 77ms/step - accuracy: 0.9644 - loss: 0.1071 - val_accuracy: 0.2003 - val_loss: 11.3770 - learning_rate: 0.0010\n",
      "Epoch 3/200\n",
      "\u001b[1m547/547\u001b[0m \u001b[32m━━━━━━━━━━━━━━━━━━━━\u001b[0m\u001b[37m\u001b[0m \u001b[1m42s\u001b[0m 77ms/step - accuracy: 0.9792 - loss: 0.0607 - val_accuracy: 0.5691 - val_loss: 8.4891 - learning_rate: 0.0010\n",
      "Epoch 4/200\n",
      "\u001b[1m547/547\u001b[0m \u001b[32m━━━━━━━━━━━━━━━━━━━━\u001b[0m\u001b[37m\u001b[0m \u001b[1m42s\u001b[0m 77ms/step - accuracy: 0.9844 - loss: 0.0465 - val_accuracy: 0.3853 - val_loss: 7.5680 - learning_rate: 0.0010\n",
      "Epoch 5/200\n",
      "\u001b[1m547/547\u001b[0m \u001b[32m━━━━━━━━━━━━━━━━━━━━\u001b[0m\u001b[37m\u001b[0m \u001b[1m42s\u001b[0m 77ms/step - accuracy: 0.9913 - loss: 0.0278 - val_accuracy: 0.6048 - val_loss: 6.4595 - learning_rate: 0.0010\n",
      "Epoch 6/200\n",
      "\u001b[1m547/547\u001b[0m \u001b[32m━━━━━━━━━━━━━━━━━━━━\u001b[0m\u001b[37m\u001b[0m \u001b[1m42s\u001b[0m 77ms/step - accuracy: 0.9849 - loss: 0.0515 - val_accuracy: 0.3603 - val_loss: 9.1351 - learning_rate: 0.0010\n",
      "Epoch 7/200\n",
      "\u001b[1m547/547\u001b[0m \u001b[32m━━━━━━━━━━━━━━━━━━━━\u001b[0m\u001b[37m\u001b[0m \u001b[1m42s\u001b[0m 77ms/step - accuracy: 0.9908 - loss: 0.0247 - val_accuracy: 0.3680 - val_loss: 5.1675 - learning_rate: 0.0010\n",
      "Epoch 8/200\n",
      "\u001b[1m547/547\u001b[0m \u001b[32m━━━━━━━━━━━━━━━━━━━━\u001b[0m\u001b[37m\u001b[0m \u001b[1m42s\u001b[0m 77ms/step - accuracy: 0.9864 - loss: 0.0402 - val_accuracy: 0.4093 - val_loss: 19.4041 - learning_rate: 0.0010\n",
      "Epoch 9/200\n",
      "\u001b[1m547/547\u001b[0m \u001b[32m━━━━━━━━━━━━━━━━━━━━\u001b[0m\u001b[37m\u001b[0m \u001b[1m42s\u001b[0m 77ms/step - accuracy: 0.9903 - loss: 0.0275 - val_accuracy: 0.6133 - val_loss: 9.6913 - learning_rate: 0.0010\n",
      "Epoch 10/200\n",
      "\u001b[1m547/547\u001b[0m \u001b[32m━━━━━━━━━━━━━━━━━━━━\u001b[0m\u001b[37m\u001b[0m \u001b[1m42s\u001b[0m 77ms/step - accuracy: 0.9983 - loss: 0.0049 - val_accuracy: 0.9637 - val_loss: 0.1540 - learning_rate: 2.0000e-04\n",
      "Epoch 11/200\n",
      "\u001b[1m547/547\u001b[0m \u001b[32m━━━━━━━━━━━━━━━━━━━━\u001b[0m\u001b[37m\u001b[0m \u001b[1m42s\u001b[0m 77ms/step - accuracy: 0.9992 - loss: 0.0029 - val_accuracy: 0.9731 - val_loss: 0.1200 - learning_rate: 2.0000e-04\n",
      "Epoch 12/200\n",
      "\u001b[1m547/547\u001b[0m \u001b[32m━━━━━━━━━━━━━━━━━━━━\u001b[0m\u001b[37m\u001b[0m \u001b[1m42s\u001b[0m 77ms/step - accuracy: 0.9995 - loss: 0.0021 - val_accuracy: 0.9933 - val_loss: 0.0236 - learning_rate: 2.0000e-04\n",
      "Epoch 13/200\n",
      "\u001b[1m547/547\u001b[0m \u001b[32m━━━━━━━━━━━━━━━━━━━━\u001b[0m\u001b[37m\u001b[0m \u001b[1m42s\u001b[0m 77ms/step - accuracy: 0.9992 - loss: 0.0020 - val_accuracy: 0.9893 - val_loss: 0.0419 - learning_rate: 2.0000e-04\n",
      "Epoch 14/200\n",
      "\u001b[1m547/547\u001b[0m \u001b[32m━━━━━━━━━━━━━━━━━━━━\u001b[0m\u001b[37m\u001b[0m \u001b[1m42s\u001b[0m 77ms/step - accuracy: 0.9994 - loss: 0.0018 - val_accuracy: 0.9981 - val_loss: 0.0074 - learning_rate: 2.0000e-04\n",
      "Epoch 15/200\n",
      "\u001b[1m547/547\u001b[0m \u001b[32m━━━━━━━━━━━━━━━━━━━━\u001b[0m\u001b[37m\u001b[0m \u001b[1m42s\u001b[0m 77ms/step - accuracy: 0.9986 - loss: 0.0034 - val_accuracy: 0.9963 - val_loss: 0.0134 - learning_rate: 2.0000e-04\n",
      "Epoch 16/200\n",
      "\u001b[1m547/547\u001b[0m \u001b[32m━━━━━━━━━━━━━━━━━━━━\u001b[0m\u001b[37m\u001b[0m \u001b[1m42s\u001b[0m 77ms/step - accuracy: 0.9990 - loss: 0.0024 - val_accuracy: 0.9968 - val_loss: 0.0089 - learning_rate: 2.0000e-04\n",
      "Epoch 17/200\n",
      "\u001b[1m547/547\u001b[0m \u001b[32m━━━━━━━━━━━━━━━━━━━━\u001b[0m\u001b[37m\u001b[0m \u001b[1m42s\u001b[0m 77ms/step - accuracy: 0.9988 - loss: 0.0051 - val_accuracy: 0.9992 - val_loss: 0.0015 - learning_rate: 4.0000e-05\n",
      "Epoch 18/200\n",
      "\u001b[1m547/547\u001b[0m \u001b[32m━━━━━━━━━━━━━━━━━━━━\u001b[0m\u001b[37m\u001b[0m \u001b[1m42s\u001b[0m 77ms/step - accuracy: 0.9998 - loss: 8.0557e-04 - val_accuracy: 0.9989 - val_loss: 0.0018 - learning_rate: 4.0000e-05\n",
      "Epoch 19/200\n",
      "\u001b[1m547/547\u001b[0m \u001b[32m━━━━━━━━━━━━━━━━━━━━\u001b[0m\u001b[37m\u001b[0m \u001b[1m42s\u001b[0m 77ms/step - accuracy: 1.0000 - loss: 2.4748e-04 - val_accuracy: 0.9995 - val_loss: 0.0014 - learning_rate: 4.0000e-05\n",
      "Epoch 20/200\n",
      "\u001b[1m547/547\u001b[0m \u001b[32m━━━━━━━━━━━━━━━━━━━━\u001b[0m\u001b[37m\u001b[0m \u001b[1m42s\u001b[0m 77ms/step - accuracy: 0.9997 - loss: 0.0015 - val_accuracy: 0.9995 - val_loss: 0.0014 - learning_rate: 8.0000e-06\n",
      "Epoch 21/200\n",
      "\u001b[1m547/547\u001b[0m \u001b[32m━━━━━━━━━━━━━━━━━━━━\u001b[0m\u001b[37m\u001b[0m \u001b[1m42s\u001b[0m 77ms/step - accuracy: 0.9999 - loss: 3.9079e-04 - val_accuracy: 0.9995 - val_loss: 0.0013 - learning_rate: 8.0000e-06\n",
      "Epoch 22/200\n",
      "\u001b[1m547/547\u001b[0m \u001b[32m━━━━━━━━━━━━━━━━━━━━\u001b[0m\u001b[37m\u001b[0m \u001b[1m42s\u001b[0m 77ms/step - accuracy: 1.0000 - loss: 1.3349e-04 - val_accuracy: 0.9995 - val_loss: 0.0013 - learning_rate: 8.0000e-06\n",
      "Epoch 23/200\n",
      "\u001b[1m547/547\u001b[0m \u001b[32m━━━━━━━━━━━━━━━━━━━━\u001b[0m\u001b[37m\u001b[0m \u001b[1m42s\u001b[0m 77ms/step - accuracy: 0.9999 - loss: 5.0407e-04 - val_accuracy: 0.9995 - val_loss: 0.0013 - learning_rate: 1.6000e-06\n",
      "Epoch 24/200\n",
      "\u001b[1m547/547\u001b[0m \u001b[32m━━━━━━━━━━━━━━━━━━━━\u001b[0m\u001b[37m\u001b[0m \u001b[1m42s\u001b[0m 77ms/step - accuracy: 0.9992 - loss: 0.0021 - val_accuracy: 0.9995 - val_loss: 0.0012 - learning_rate: 1.6000e-06\n",
      "Epoch 25/200\n",
      "\u001b[1m547/547\u001b[0m \u001b[32m━━━━━━━━━━━━━━━━━━━━\u001b[0m\u001b[37m\u001b[0m \u001b[1m42s\u001b[0m 77ms/step - accuracy: 0.9999 - loss: 0.0015 - val_accuracy: 0.9995 - val_loss: 0.0012 - learning_rate: 1.6000e-06\n",
      "Epoch 26/200\n",
      "\u001b[1m547/547\u001b[0m \u001b[32m━━━━━━━━━━━━━━━━━━━━\u001b[0m\u001b[37m\u001b[0m \u001b[1m42s\u001b[0m 77ms/step - accuracy: 0.9998 - loss: 9.6042e-04 - val_accuracy: 0.9995 - val_loss: 0.0012 - learning_rate: 1.6000e-06\n",
      "Epoch 27/200\n",
      "\u001b[1m547/547\u001b[0m \u001b[32m━━━━━━━━━━━━━━━━━━━━\u001b[0m\u001b[37m\u001b[0m \u001b[1m42s\u001b[0m 77ms/step - accuracy: 1.0000 - loss: 7.5690e-04 - val_accuracy: 0.9995 - val_loss: 0.0012 - learning_rate: 3.2000e-07\n",
      "Epoch 28/200\n",
      "\u001b[1m547/547\u001b[0m \u001b[32m━━━━━━━━━━━━━━━━━━━━\u001b[0m\u001b[37m\u001b[0m \u001b[1m42s\u001b[0m 77ms/step - accuracy: 1.0000 - loss: 1.2983e-04 - val_accuracy: 0.9995 - val_loss: 0.0012 - learning_rate: 3.2000e-07\n",
      "Epoch 29/200\n",
      "\u001b[1m547/547\u001b[0m \u001b[32m━━━━━━━━━━━━━━━━━━━━\u001b[0m\u001b[37m\u001b[0m \u001b[1m42s\u001b[0m 77ms/step - accuracy: 0.9999 - loss: 8.7784e-04 - val_accuracy: 0.9995 - val_loss: 0.0012 - learning_rate: 6.4000e-08\n",
      "Epoch 30/200\n",
      "\u001b[1m547/547\u001b[0m \u001b[32m━━━━━━━━━━━━━━━━━━━━\u001b[0m\u001b[37m\u001b[0m \u001b[1m42s\u001b[0m 77ms/step - accuracy: 0.9999 - loss: 0.0026 - val_accuracy: 0.9995 - val_loss: 0.0012 - learning_rate: 6.4000e-08\n",
      "Epoch 31/200\n",
      "\u001b[1m547/547\u001b[0m \u001b[32m━━━━━━━━━━━━━━━━━━━━\u001b[0m\u001b[37m\u001b[0m \u001b[1m42s\u001b[0m 77ms/step - accuracy: 1.0000 - loss: 3.5420e-04 - val_accuracy: 0.9995 - val_loss: 0.0012 - learning_rate: 1.2800e-08\n",
      "Epoch 32/200\n",
      "\u001b[1m547/547\u001b[0m \u001b[32m━━━━━━━━━━━━━━━━━━━━\u001b[0m\u001b[37m\u001b[0m \u001b[1m42s\u001b[0m 77ms/step - accuracy: 0.9999 - loss: 2.9668e-04 - val_accuracy: 0.9995 - val_loss: 0.0012 - learning_rate: 1.2800e-08\n",
      "Epoch 32: early stopping\n",
      "Restoring model weights from the end of the best epoch: 29.\n"
     ]
    }
   ],
   "source": [
    "# Train the model with callbacks\n",
    "history = model.fit(\n",
    "    X_train, y_train,\n",
    "    batch_size=32,\n",
    "    epochs=200,\n",
    "    validation_data=(X_val, y_val),\n",
    "    callbacks=[early_stopping, lr_reduce]  \n",
    ")"
   ]
  },
  {
   "cell_type": "code",
   "execution_count": 12,
   "id": "f144b548",
   "metadata": {
    "execution": {
     "iopub.execute_input": "2025-05-11T14:51:09.548081Z",
     "iopub.status.busy": "2025-05-11T14:51:09.541736Z",
     "iopub.status.idle": "2025-05-11T14:51:34.791587Z",
     "shell.execute_reply": "2025-05-11T14:51:34.790734Z"
    },
    "papermill": {
     "duration": 26.06291,
     "end_time": "2025-05-11T14:51:34.793263",
     "exception": false,
     "start_time": "2025-05-11T14:51:08.730353",
     "status": "completed"
    },
    "tags": []
   },
   "outputs": [],
   "source": [
    "# After training the model, evaluate on all datasets\n",
    "train_loss, train_acc = model.evaluate(X_train, y_train, verbose=0)\n",
    "val_loss, val_acc = model.evaluate(X_val, y_val, verbose=0)\n",
    "test_loss, test_acc = model.evaluate(X_test, y_test, verbose=0)"
   ]
  },
  {
   "cell_type": "code",
   "execution_count": 13,
   "id": "a09f0f1a",
   "metadata": {
    "execution": {
     "iopub.execute_input": "2025-05-11T14:51:36.371197Z",
     "iopub.status.busy": "2025-05-11T14:51:36.370918Z",
     "iopub.status.idle": "2025-05-11T14:51:36.375468Z",
     "shell.execute_reply": "2025-05-11T14:51:36.374654Z"
    },
    "papermill": {
     "duration": 0.743633,
     "end_time": "2025-05-11T14:51:36.376615",
     "exception": false,
     "start_time": "2025-05-11T14:51:35.632982",
     "status": "completed"
    },
    "tags": []
   },
   "outputs": [
    {
     "name": "stdout",
     "output_type": "stream",
     "text": [
      "\n",
      "Training Accuracy: 1.0000\n",
      "Validation Accuracy: 0.9995\n",
      "Test Accuracy: 0.9995\n"
     ]
    }
   ],
   "source": [
    "# Print the accuracies\n",
    "print(f\"\\nTraining Accuracy: {train_acc:.4f}\")\n",
    "print(f\"Validation Accuracy: {val_acc:.4f}\")\n",
    "print(f\"Test Accuracy: {test_acc:.4f}\")"
   ]
  },
  {
   "cell_type": "code",
   "execution_count": 14,
   "id": "081ea1df",
   "metadata": {
    "execution": {
     "iopub.execute_input": "2025-05-11T14:51:37.915661Z",
     "iopub.status.busy": "2025-05-11T14:51:37.915125Z",
     "iopub.status.idle": "2025-05-11T14:51:37.920137Z",
     "shell.execute_reply": "2025-05-11T14:51:37.919506Z"
    },
    "papermill": {
     "duration": 0.742637,
     "end_time": "2025-05-11T14:51:37.921235",
     "exception": false,
     "start_time": "2025-05-11T14:51:37.178598",
     "status": "completed"
    },
    "tags": []
   },
   "outputs": [
    {
     "name": "stdout",
     "output_type": "stream",
     "text": [
      "\n",
      "Overall Training Accuracy: 1.0000\n"
     ]
    }
   ],
   "source": [
    "# Calculate overall training accuracy (which is just train_acc in this case)\n",
    "print(f\"\\nOverall Training Accuracy: {train_acc:.4f}\")"
   ]
  }
 ],
 "metadata": {
  "kaggle": {
   "accelerator": "gpu",
   "dataSources": [
    {
     "datasetId": 601280,
     "sourceId": 1079953,
     "sourceType": "datasetVersion"
    }
   ],
   "isGpuEnabled": true,
   "isInternetEnabled": true,
   "language": "python",
   "sourceType": "notebook"
  },
  "kernelspec": {
   "display_name": "Python 3",
   "language": "python",
   "name": "python3"
  },
  "language_info": {
   "codemirror_mode": {
    "name": "ipython",
    "version": 3
   },
   "file_extension": ".py",
   "mimetype": "text/x-python",
   "name": "python",
   "nbconvert_exporter": "python",
   "pygments_lexer": "ipython3",
   "version": "3.11.11"
  },
  "papermill": {
   "default_parameters": {},
   "duration": 1822.462994,
   "end_time": "2025-05-11T14:51:42.002270",
   "environment_variables": {},
   "exception": null,
   "input_path": "__notebook__.ipynb",
   "output_path": "__notebook__.ipynb",
   "parameters": {},
   "start_time": "2025-05-11T14:21:19.539276",
   "version": "2.6.0"
  }
 },
 "nbformat": 4,
 "nbformat_minor": 5
}
